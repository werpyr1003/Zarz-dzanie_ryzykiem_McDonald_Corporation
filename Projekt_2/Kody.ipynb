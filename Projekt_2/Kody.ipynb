{
 "cells": [
  {
   "cell_type": "code",
   "execution_count": 1,
   "metadata": {},
   "outputs": [],
   "source": [
    "import pandas as pd\n",
    "import numpy as np\n",
    "from scipy.stats import skew, kurtosis\n",
    "import matplotlib.pyplot as plt"
   ]
  },
  {
   "cell_type": "markdown",
   "metadata": {},
   "source": [
    "WOŁOWINA"
   ]
  },
  {
   "cell_type": "code",
   "execution_count": null,
   "metadata": {},
   "outputs": [
    {
     "name": "stdout",
     "output_type": "stream",
     "text": [
      "                        Date  Open  High   Low  Close    Volume  Dividends  \\\n",
      "0  2024-04-04 00:00:00-03:00  6.77  6.82  6.69   6.71  11698300        0.0   \n",
      "1  2024-04-05 00:00:00-03:00  6.71  6.76  6.55   6.62   8445700        0.0   \n",
      "2  2024-04-08 00:00:00-03:00  6.65  6.66  6.57   6.60   7657500        0.0   \n",
      "3  2024-04-09 00:00:00-03:00  6.60  6.72  6.52   6.56   9762700        0.0   \n",
      "4  2024-04-10 00:00:00-03:00  6.52  6.57  6.42   6.46  12493000        0.0   \n",
      "\n",
      "   Stock Splits  \n",
      "0           0.0  \n",
      "1           0.0  \n",
      "2           0.0  \n",
      "3           0.0  \n",
      "4           0.0  \n"
     ]
    }
   ],
   "source": [
    "beef_path = 'BEEF.csv'\n",
    "\n",
    "beef_df = pd.read_csv(beef_path)\n",
    "\n",
    "print(beef_df.head())"
   ]
  },
  {
   "cell_type": "code",
   "execution_count": null,
   "metadata": {},
   "outputs": [],
   "source": [
    "beef_data = beef_df['Close']\n",
    "logret_beef_data =  np.log(beef_data / beef_data.shift(1))"
   ]
  },
  {
   "cell_type": "markdown",
   "metadata": {},
   "source": [
    "CEBULA"
   ]
  },
  {
   "cell_type": "code",
   "execution_count": null,
   "metadata": {},
   "outputs": [
    {
     "name": "stdout",
     "output_type": "stream",
     "text": [
      "                        Date      Open      High       Low     Close  Volume  \\\n",
      "0  2024-04-05 00:00:00+00:00  0.060301  0.060412  0.058137  0.059733       0   \n",
      "1  2024-04-06 00:00:00+00:00  0.059733  0.061251  0.059417  0.060663       0   \n",
      "2  2024-04-07 00:00:00+00:00  0.060663  0.061815  0.060606  0.061056       0   \n",
      "3  2024-04-08 00:00:00+00:00  0.061056  0.063966  0.060853  0.063054       0   \n",
      "4  2024-04-09 00:00:00+00:00  0.063054  0.063127  0.060145  0.060853       0   \n",
      "\n",
      "   Dividends  Stock Splits  \n",
      "0        0.0           0.0  \n",
      "1        0.0           0.0  \n",
      "2        0.0           0.0  \n",
      "3        0.0           0.0  \n",
      "4        0.0           0.0  \n"
     ]
    }
   ],
   "source": [
    "onion_path = 'ONION.csv'\n",
    "\n",
    "onion_df = pd.read_csv(onion_path)\n",
    "\n",
    "print(onion_df.head())"
   ]
  },
  {
   "cell_type": "code",
   "execution_count": 12,
   "metadata": {},
   "outputs": [],
   "source": [
    "onion_data = onion_df['Close']\n",
    "logret_onion_data =  np.log(onion_data / onion_data.shift(1))"
   ]
  },
  {
   "cell_type": "markdown",
   "metadata": {},
   "source": [
    "POMIDOR"
   ]
  },
  {
   "cell_type": "code",
   "execution_count": 13,
   "metadata": {},
   "outputs": [
    {
     "name": "stdout",
     "output_type": "stream",
     "text": [
      "                        Date         Open         High          Low  \\\n",
      "0  2024-04-04 00:00:00+09:00  1183.058238  1190.727983  1171.553620   \n",
      "1  2024-04-05 00:00:00+09:00  1177.305842  1184.016869  1167.718661   \n",
      "2  2024-04-08 00:00:00+09:00  1177.305830  1185.934293  1175.388394   \n",
      "3  2024-04-09 00:00:00+09:00  1179.223322  1180.182041  1172.512295   \n",
      "4  2024-04-10 00:00:00+09:00  1176.347202  1179.223356  1171.553611   \n",
      "\n",
      "         Close  Volume  Dividends  Stock Splits  \n",
      "0  1188.810547   19800        0.0           0.0  \n",
      "1  1174.429688   20200        0.0           0.0  \n",
      "2  1179.223267   13700        0.0           0.0  \n",
      "3  1176.347168   13800        0.0           0.0  \n",
      "4  1172.512329   13400        0.0           0.0  \n"
     ]
    }
   ],
   "source": [
    "tomato_path = 'TOMATO.csv'\n",
    "\n",
    "tomato_df = pd.read_csv(tomato_path)\n",
    "\n",
    "print(tomato_df.head())"
   ]
  },
  {
   "cell_type": "code",
   "execution_count": 14,
   "metadata": {},
   "outputs": [],
   "source": [
    "tomato_data = tomato_df['Close']\n",
    "logret_tomato_data =  np.log(tomato_data / tomato_data.shift(1))"
   ]
  },
  {
   "cell_type": "markdown",
   "metadata": {},
   "source": [
    "# Ad. 1"
   ]
  },
  {
   "cell_type": "markdown",
   "metadata": {},
   "source": [
    "## MIARY ZMIENNOŚCI"
   ]
  },
  {
   "cell_type": "code",
   "execution_count": null,
   "metadata": {},
   "outputs": [],
   "source": [
    "def calculate_volatility_metrics(prices, freq=252, window=30):\n",
    "\n",
    "    log_returns = np.log(prices / prices.shift(1)).dropna()\n",
    "    \n",
    "    volatility_metrics = {\n",
    "        'Stdev (log returns)': np.std(log_returns),\n",
    "        'Variance (log returns)': np.var(log_returns),\n",
    "        'Mean Absolute Deviation': np.mean(np.abs(log_returns - np.mean(log_returns))),\n",
    "        'Annualized Volatility': np.std(log_returns) * np.sqrt(freq),\n",
    "        'Max Drawdown': (prices / prices.cummax() - 1).min(),\n",
    "        'Rolling Volatility (last 30d)': log_returns.rolling(window).std().iloc[-1],\n",
    "        'Skewness': skew(log_returns),\n",
    "        'Kurtosis': kurtosis(log_returns),\n",
    "        'Autocorrelation (lag 1)': log_returns.autocorr(lag=1)\n",
    "    }\n",
    "\n",
    "    volatility_df = pd.DataFrame.from_dict(volatility_metrics, orient='index', columns=['Value'])\n",
    "    volatility_df['Value'] = volatility_df['Value'] * 100\n",
    "    \n",
    "    return volatility_df"
   ]
  },
  {
   "cell_type": "code",
   "execution_count": 5,
   "metadata": {},
   "outputs": [
    {
     "name": "stdout",
     "output_type": "stream",
     "text": [
      "                                    Value\n",
      "Stdev (log returns)              2.751932\n",
      "Variance (log returns)           0.075731\n",
      "Mean Absolute Deviation          2.043706\n",
      "Annualized Volatility           43.685560\n",
      "Max Drawdown                   -46.037735\n",
      "Rolling Volatility (last 30d)    2.924036\n",
      "Skewness                        -4.331932\n",
      "Kurtosis                       153.563594\n",
      "Autocorrelation (lag 1)         -0.291311\n"
     ]
    }
   ],
   "source": [
    "print(calculate_volatility_metrics(beef_data))"
   ]
  },
  {
   "cell_type": "code",
   "execution_count": null,
   "metadata": {},
   "outputs": [
    {
     "data": {
      "text/html": [
       "<style type=\"text/css\">\n",
       "</style>\n",
       "<table id=\"T_7c639\">\n",
       "  <thead>\n",
       "    <tr>\n",
       "      <th class=\"blank level0\" >&nbsp;</th>\n",
       "      <th id=\"T_7c639_level0_col0\" class=\"col_heading level0 col0\" >beef</th>\n",
       "      <th id=\"T_7c639_level0_col1\" class=\"col_heading level0 col1\" >onion</th>\n",
       "      <th id=\"T_7c639_level0_col2\" class=\"col_heading level0 col2\" >potato</th>\n",
       "    </tr>\n",
       "  </thead>\n",
       "  <tbody>\n",
       "    <tr>\n",
       "      <th id=\"T_7c639_level0_row0\" class=\"row_heading level0 row0\" >Stdev (log returns)</th>\n",
       "      <td id=\"T_7c639_row0_col0\" class=\"data row0 col0\" >2.75%</td>\n",
       "      <td id=\"T_7c639_row0_col1\" class=\"data row0 col1\" >13.94%</td>\n",
       "      <td id=\"T_7c639_row0_col2\" class=\"data row0 col2\" >1.46%</td>\n",
       "    </tr>\n",
       "    <tr>\n",
       "      <th id=\"T_7c639_level0_row1\" class=\"row_heading level0 row1\" >Variance (log returns)</th>\n",
       "      <td id=\"T_7c639_row1_col0\" class=\"data row1 col0\" >0.08%</td>\n",
       "      <td id=\"T_7c639_row1_col1\" class=\"data row1 col1\" >1.94%</td>\n",
       "      <td id=\"T_7c639_row1_col2\" class=\"data row1 col2\" >0.02%</td>\n",
       "    </tr>\n",
       "    <tr>\n",
       "      <th id=\"T_7c639_level0_row2\" class=\"row_heading level0 row2\" >Mean Absolute Deviation</th>\n",
       "      <td id=\"T_7c639_row2_col0\" class=\"data row2 col0\" >2.04%</td>\n",
       "      <td id=\"T_7c639_row2_col1\" class=\"data row2 col1\" >4.31%</td>\n",
       "      <td id=\"T_7c639_row2_col2\" class=\"data row2 col2\" >0.81%</td>\n",
       "    </tr>\n",
       "    <tr>\n",
       "      <th id=\"T_7c639_level0_row3\" class=\"row_heading level0 row3\" >Annualized Volatility</th>\n",
       "      <td id=\"T_7c639_row3_col0\" class=\"data row3 col0\" >43.69%</td>\n",
       "      <td id=\"T_7c639_row3_col1\" class=\"data row3 col1\" >221.33%</td>\n",
       "      <td id=\"T_7c639_row3_col2\" class=\"data row3 col2\" >23.22%</td>\n",
       "    </tr>\n",
       "    <tr>\n",
       "      <th id=\"T_7c639_level0_row4\" class=\"row_heading level0 row4\" >Max Drawdown</th>\n",
       "      <td id=\"T_7c639_row4_col0\" class=\"data row4 col0\" >-46.04%</td>\n",
       "      <td id=\"T_7c639_row4_col1\" class=\"data row4 col1\" >-85.24%</td>\n",
       "      <td id=\"T_7c639_row4_col2\" class=\"data row4 col2\" >-19.03%</td>\n",
       "    </tr>\n",
       "    <tr>\n",
       "      <th id=\"T_7c639_level0_row5\" class=\"row_heading level0 row5\" >Rolling Volatility (last 30d)</th>\n",
       "      <td id=\"T_7c639_row5_col0\" class=\"data row5 col0\" >2.92%</td>\n",
       "      <td id=\"T_7c639_row5_col1\" class=\"data row5 col1\" >1.91%</td>\n",
       "      <td id=\"T_7c639_row5_col2\" class=\"data row5 col2\" >1.08%</td>\n",
       "    </tr>\n",
       "    <tr>\n",
       "      <th id=\"T_7c639_level0_row6\" class=\"row_heading level0 row6\" >Skewness</th>\n",
       "      <td id=\"T_7c639_row6_col0\" class=\"data row6 col0\" >-4.33%</td>\n",
       "      <td id=\"T_7c639_row6_col1\" class=\"data row6 col1\" >-98.78%</td>\n",
       "      <td id=\"T_7c639_row6_col2\" class=\"data row6 col2\" >-236.64%</td>\n",
       "    </tr>\n",
       "    <tr>\n",
       "      <th id=\"T_7c639_level0_row7\" class=\"row_heading level0 row7\" >Kurtosis</th>\n",
       "      <td id=\"T_7c639_row7_col0\" class=\"data row7 col0\" >153.56%</td>\n",
       "      <td id=\"T_7c639_row7_col1\" class=\"data row7 col1\" >3770.92%</td>\n",
       "      <td id=\"T_7c639_row7_col2\" class=\"data row7 col2\" >2842.14%</td>\n",
       "    </tr>\n",
       "    <tr>\n",
       "      <th id=\"T_7c639_level0_row8\" class=\"row_heading level0 row8\" >Autocorrelation (lag 1)</th>\n",
       "      <td id=\"T_7c639_row8_col0\" class=\"data row8 col0\" >-0.29%</td>\n",
       "      <td id=\"T_7c639_row8_col1\" class=\"data row8 col1\" >-28.58%</td>\n",
       "      <td id=\"T_7c639_row8_col2\" class=\"data row8 col2\" >-4.72%</td>\n",
       "    </tr>\n",
       "  </tbody>\n",
       "</table>\n"
      ],
      "text/plain": [
       "<pandas.io.formats.style.Styler at 0x11bbc33eb50>"
      ]
     },
     "metadata": {},
     "output_type": "display_data"
    }
   ],
   "source": [
    "ingredients = {\n",
    "    'beef': beef_data.squeeze(),    \n",
    "    'onion': onion_data.squeeze(),\n",
    "    'potato': tomato_data.squeeze()\n",
    "}\n",
    "\n",
    "volatility_results = pd.DataFrame()\n",
    "\n",
    "for name, series in ingredients.items():\n",
    "    metrics = calculate_volatility_metrics(series)\n",
    "    metrics.columns = [name]  \n",
    "    if volatility_results.empty:\n",
    "        volatility_results = metrics\n",
    "    else:\n",
    "        volatility_results = pd.concat([volatility_results, metrics], axis=1)\n",
    "\n",
    "display(volatility_results.style.format(\"{:.2f}%\"))\n"
   ]
  },
  {
   "cell_type": "markdown",
   "metadata": {},
   "source": [
    "## KWANTYLE"
   ]
  },
  {
   "cell_type": "code",
   "execution_count": null,
   "metadata": {},
   "outputs": [],
   "source": [
    "def calculate_quantiles(prices, quantiles=[0.05, 0.25, 0.5, 0.75, 0.95]):\n",
    "\n",
    "    log_returns = np.log(prices / prices.shift(1)).dropna()\n",
    "\n",
    "    quantile_values = {f\"Q{int(q*100)}\": prices.quantile(q) for q in quantiles}\n",
    "    \n",
    "    return quantile_values"
   ]
  },
  {
   "cell_type": "code",
   "execution_count": 7,
   "metadata": {},
   "outputs": [
    {
     "name": "stdout",
     "output_type": "stream",
     "text": [
      "{'Q5': 4.545500087738037, 'Q25': 5.505000114440918, 'Q50': 6.099999904632568, 'Q75': 6.550000190734863, 'Q95': 7.498999977111816}\n"
     ]
    }
   ],
   "source": [
    "print(calculate_quantiles(beef_data))"
   ]
  },
  {
   "cell_type": "code",
   "execution_count": null,
   "metadata": {},
   "outputs": [
    {
     "data": {
      "text/html": [
       "<style type=\"text/css\">\n",
       "</style>\n",
       "<table id=\"T_97010\">\n",
       "  <thead>\n",
       "    <tr>\n",
       "      <th class=\"blank level0\" >&nbsp;</th>\n",
       "      <th id=\"T_97010_level0_col0\" class=\"col_heading level0 col0\" >beef</th>\n",
       "      <th id=\"T_97010_level0_col1\" class=\"col_heading level0 col1\" >onion</th>\n",
       "      <th id=\"T_97010_level0_col2\" class=\"col_heading level0 col2\" >potato</th>\n",
       "    </tr>\n",
       "  </thead>\n",
       "  <tbody>\n",
       "    <tr>\n",
       "      <th id=\"T_97010_level0_row0\" class=\"row_heading level0 row0\" >Q5</th>\n",
       "      <td id=\"T_97010_row0_col0\" class=\"data row0 col0\" >4.55</td>\n",
       "      <td id=\"T_97010_row0_col1\" class=\"data row0 col1\" >0.01</td>\n",
       "      <td id=\"T_97010_row0_col2\" class=\"data row0 col2\" >1093.76</td>\n",
       "    </tr>\n",
       "    <tr>\n",
       "      <th id=\"T_97010_level0_row1\" class=\"row_heading level0 row1\" >Q25</th>\n",
       "      <td id=\"T_97010_row1_col0\" class=\"data row1 col0\" >5.51</td>\n",
       "      <td id=\"T_97010_row1_col1\" class=\"data row1 col1\" >0.02</td>\n",
       "      <td id=\"T_97010_row1_col2\" class=\"data row1 col2\" >1130.33</td>\n",
       "    </tr>\n",
       "    <tr>\n",
       "      <th id=\"T_97010_level0_row2\" class=\"row_heading level0 row2\" >Q50</th>\n",
       "      <td id=\"T_97010_row2_col0\" class=\"data row2 col0\" >6.10</td>\n",
       "      <td id=\"T_97010_row2_col1\" class=\"data row2 col1\" >0.03</td>\n",
       "      <td id=\"T_97010_row2_col2\" class=\"data row2 col2\" >1178.26</td>\n",
       "    </tr>\n",
       "    <tr>\n",
       "      <th id=\"T_97010_level0_row3\" class=\"row_heading level0 row3\" >Q75</th>\n",
       "      <td id=\"T_97010_row3_col0\" class=\"data row3 col0\" >6.55</td>\n",
       "      <td id=\"T_97010_row3_col1\" class=\"data row3 col1\" >0.04</td>\n",
       "      <td id=\"T_97010_row3_col2\" class=\"data row3 col2\" >1199.18</td>\n",
       "    </tr>\n",
       "    <tr>\n",
       "      <th id=\"T_97010_level0_row4\" class=\"row_heading level0 row4\" >Q95</th>\n",
       "      <td id=\"T_97010_row4_col0\" class=\"data row4 col0\" >7.50</td>\n",
       "      <td id=\"T_97010_row4_col1\" class=\"data row4 col1\" >0.06</td>\n",
       "      <td id=\"T_97010_row4_col2\" class=\"data row4 col2\" >1252.09</td>\n",
       "    </tr>\n",
       "  </tbody>\n",
       "</table>\n"
      ],
      "text/plain": [
       "<pandas.io.formats.style.Styler at 0x11bbc4bcb80>"
      ]
     },
     "metadata": {},
     "output_type": "display_data"
    }
   ],
   "source": [
    "quantile_results = pd.DataFrame()\n",
    "\n",
    "for name, series in ingredients.items():\n",
    "    q_values = calculate_quantiles(series)\n",
    "    q_df = pd.DataFrame.from_dict(q_values, orient='index', columns=[name])\n",
    "    \n",
    "    if quantile_results.empty:\n",
    "        quantile_results = q_df\n",
    "    else:\n",
    "        quantile_results = pd.concat([quantile_results, q_df], axis=1)\n",
    "\n",
    "display(quantile_results.style.format(\"{:.2f}\"))"
   ]
  },
  {
   "cell_type": "markdown",
   "metadata": {},
   "source": [
    "## DYSTRYBUANTA"
   ]
  },
  {
   "cell_type": "code",
   "execution_count": null,
   "metadata": {},
   "outputs": [],
   "source": [
    "def plot_cdf(data, title = ''):\n",
    "    sorted_data = np.sort(data)\n",
    "    \n",
    "    cdf = np.arange(1, len(sorted_data) + 1) / len(sorted_data)\n",
    "    \n",
    "    plt.figure(figsize=(8, 6))\n",
    "    plt.plot(sorted_data, cdf, marker='.', linestyle='none', color='blue')\n",
    "    \n",
    "    plt.title(f\"Dystrybuanta (CDF) {title}\")\n",
    "    plt.xlabel(\"Wahanie cen\")\n",
    "    plt.ylabel(\"Prawdopodobieństwo skumulowane\")\n",
    "    plt.grid(True)\n",
    "    plt.show()"
   ]
  },
  {
   "cell_type": "code",
   "execution_count": 9,
   "metadata": {},
   "outputs": [
    {
     "data": {
      "image/png": "[encoded data removed]",
      "text/plain": [
       "<Figure size 576x432 with 1 Axes>"
      ]
     },
     "metadata": {
      "needs_background": "light"
     },
     "output_type": "display_data"
    }
   ],
   "source": [
    "plot_cdf(logret_beef_data, \"BEEF\")"
   ]
  },
  {
   "cell_type": "code",
   "execution_count": null,
   "metadata": {},
   "outputs": [
    {
     "data": {
      "image/png": "[encoded data removed]",
      "text/plain": [
       "<Figure size 1296x360 with 3 Axes>"
      ]
     },
     "metadata": {
      "needs_background": "light"
     },
     "output_type": "display_data"
    }
   ],
   "source": [
    "def plot_multiple_cdfs(data_dict):\n",
    "    fig, axes = plt.subplots(1, 3, figsize=(18, 5), sharey=True)\n",
    "\n",
    "    for ax, (name, data) in zip(axes, data_dict.items()):\n",
    "        sorted_data = np.sort(data)\n",
    "        cdf = np.arange(1, len(sorted_data) + 1) / len(sorted_data)\n",
    "        \n",
    "        ax.plot(sorted_data, cdf, marker='.', linestyle='none', color='blue')\n",
    "        ax.set_title(f\"CDF - {name}\")\n",
    "        ax.set_xlabel(\"Wahanie cen\")\n",
    "        ax.grid(True)\n",
    "    \n",
    "    axes[0].set_ylabel(\"Prawdopodobieństwo skumulowane\")\n",
    "    plt.suptitle(\"Dystrybuanta skumulowana (CDF) dla składników\", fontsize=16)\n",
    "    plt.tight_layout(rect=[0, 0, 1, 0.95])\n",
    "    plt.show()\n",
    "\n",
    "data_dict = {\n",
    "    'beef': beef_data.squeeze(),    \n",
    "    'onion': onion_data.squeeze(),\n",
    "    'potato': tomato_data.squeeze()\n",
    "}\n",
    "\n",
    "plot_multiple_cdfs(data_dict)"
   ]
  },
  {
   "cell_type": "code",
   "execution_count": null,
   "metadata": {},
   "outputs": [],
   "source": []
  }
 ],
 "metadata": {
  "kernelspec": {
   "display_name": "base",
   "language": "python",
   "name": "python3"
  },
  "language_info": {
   "codemirror_mode": {
    "name": "ipython",
    "version": 3
   },
   "file_extension": ".py",
   "mimetype": "text/x-python",
   "name": "python",
   "nbconvert_exporter": "python",
   "pygments_lexer": "ipython3",
   "version": "3.9.12"
  }
 },
 "nbformat": 4,
 "nbformat_minor": 2
}
