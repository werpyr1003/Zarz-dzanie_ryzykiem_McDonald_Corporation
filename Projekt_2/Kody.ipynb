{
 "cells": [
  {
   "cell_type": "code",
   "execution_count": null,
   "metadata": {},
   "outputs": [],
   "source": [
    "\n",
    "import pandas as pd\n",
    "import numpy as np\n",
    "from scipy.stats import skew, kurtosis\n",
    "import matplotlib.pyplot as plt"
   ]
  },
  {
   "cell_type": "code",
   "execution_count": null,
   "metadata": {},
   "outputs": [
    {
     "name": "stdout",
     "output_type": "stream",
     "text": [
      "                       Date  Close         Volume\n",
      "0  2024-04-03T22:00:00.000Z   6.71  11,698,300.00\n",
      "1  2024-04-04T22:00:00.000Z   6.62   8,445,700.00\n",
      "2  2024-04-07T22:00:00.000Z   6.60   7,657,500.00\n",
      "3  2024-04-08T22:00:00.000Z   6.56   9,762,700.00\n",
      "4  2024-04-09T22:00:00.000Z   6.46  12,493,000.00\n"
     ]
    }
   ],
   "source": [
    "# Ścieżka do pliku CSV\n",
    "beef_path = 'BEEF.csv'\n",
    "\n",
    "# Wczytanie pliku CSV do DataFrame\n",
    "beef_df = pd.read_csv(beef_path)\n",
    "\n",
    "# Wyświetlenie pierwszych kilku wierszy, aby sprawdzić, czy dane zostały poprawnie wczytane\n",
    "print(beef_df.head())"
   ]
  },
  {
   "cell_type": "code",
   "execution_count": null,
   "metadata": {},
   "outputs": [],
   "source": [
    "# DANE WOŁOWNA\n",
    "beef_data = beef_df['Close']\n",
    "logret_beef_data =  np.log(beef_data / beef_data.shift(1))\n",
    "\n"
   ]
  },
  {
   "cell_type": "markdown",
   "metadata": {},
   "source": [
    "# Ad. 1"
   ]
  },
  {
   "cell_type": "markdown",
   "metadata": {},
   "source": [
    "## MIARY ZMIENNOŚCI"
   ]
  },
  {
   "cell_type": "code",
   "execution_count": null,
   "metadata": {},
   "outputs": [],
   "source": [
    "def calculate_volatility_metrics(prices, freq=252, window=30):\n",
    "\n",
    "    log_returns = np.log(prices / prices.shift(1)).dropna()\n",
    "    \n",
    "    volatility_metrics = {\n",
    "        'Stdev (log returns)': np.std(log_returns),\n",
    "        'Variance (log returns)': np.var(log_returns),\n",
    "        'Mean Absolute Deviation': np.mean(np.abs(log_returns - np.mean(log_returns))),\n",
    "        'Annualized Volatility': np.std(log_returns) * np.sqrt(freq),\n",
    "        'Max Drawdown': (prices / prices.cummax() - 1).min(),\n",
    "        'Rolling Volatility (last 30d)': log_returns.rolling(window).std().iloc[-1],\n",
    "        'Skewness': skew(log_returns),\n",
    "        'Kurtosis': kurtosis(log_returns),\n",
    "        'Autocorrelation (lag 1)': log_returns.autocorr(lag=1)\n",
    "    }\n",
    "\n",
    "    volatility_df = pd.DataFrame.from_dict(volatility_metrics, orient='index', columns=['Value'])\n",
    "    # W procentach\n",
    "    volatility_df['Value'] = volatility_df['Value'] * 100\n",
    "    \n",
    "    return volatility_df"
   ]
  },
  {
   "cell_type": "code",
   "execution_count": 26,
   "metadata": {},
   "outputs": [
    {
     "name": "stdout",
     "output_type": "stream",
     "text": [
      "                                    Value\n",
      "Stdev (log returns)              2.754003\n",
      "Variance (log returns)           0.075845\n",
      "VaR (95%)                       -4.087968\n",
      "CVaR (95%)                      -6.190948\n",
      "Mean Absolute Deviation          2.050084\n",
      "Annualized Volatility           43.718438\n",
      "Max Drawdown                   -46.037736\n",
      "Rolling Volatility (last 30d)    2.919672\n",
      "Skewness                        -4.893709\n",
      "Kurtosis                       152.299560\n",
      "Autocorrelation (lag 1)         -0.438350\n"
     ]
    }
   ],
   "source": [
    "print(calculate_volatility_metrics(beef_data))"
   ]
  },
  {
   "cell_type": "markdown",
   "metadata": {},
   "source": [
    "## KWANTYLE"
   ]
  },
  {
   "cell_type": "code",
   "execution_count": 29,
   "metadata": {},
   "outputs": [],
   "source": [
    "def calculate_quantiles(prices, quantiles=[0.05, 0.25, 0.5, 0.75, 0.95]):\n",
    "\n",
    "    log_returns = np.log(prices / prices.shift(1)).dropna()\n",
    "\n",
    "    # Obliczamy kwantyle\n",
    "    quantile_values = {f\"Q{int(q*100)}\": prices.quantile(q) for q in quantiles}\n",
    "    \n",
    "    return quantile_values"
   ]
  },
  {
   "cell_type": "code",
   "execution_count": 30,
   "metadata": {},
   "outputs": [
    {
     "name": "stdout",
     "output_type": "stream",
     "text": [
      "{'Q5': 4.5455, 'Q25': 5.505, 'Q50': 6.1, 'Q75': 6.5525, 'Q95': 7.499}\n"
     ]
    }
   ],
   "source": [
    "print(calculate_quantiles(beef_data))"
   ]
  },
  {
   "cell_type": "markdown",
   "metadata": {},
   "source": [
    "## DYSTRYBUANTA"
   ]
  },
  {
   "cell_type": "code",
   "execution_count": null,
   "metadata": {},
   "outputs": [],
   "source": [
    "def plot_cdf(data, title = ''):\n",
    "    # Sortowanie danych\n",
    "    sorted_data = np.sort(data)\n",
    "    \n",
    "    # Obliczanie skumulowanego prawdopodobieństwa\n",
    "    cdf = np.arange(1, len(sorted_data) + 1) / len(sorted_data)\n",
    "    \n",
    "    # Tworzenie wykresu\n",
    "    plt.figure(figsize=(8, 6))\n",
    "    plt.plot(sorted_data, cdf, marker='.', linestyle='none', color='blue')\n",
    "    \n",
    "    # Dodawanie tytułu i etykiet\n",
    "    plt.title(f\"Dystrybuanta (CDF) {title}\")\n",
    "    plt.xlabel(\"Wahanie cen\")\n",
    "    plt.ylabel(\"Prawdopodobieństwo skumulowane\")\n",
    "    plt.grid(True)\n",
    "    plt.show()"
   ]
  },
  {
   "cell_type": "code",
   "execution_count": 36,
   "metadata": {},
   "outputs": [
    {
     "data": {
      "image/png": "[encoded data removed]",
      "text/plain": [
       "<Figure size 800x600 with 1 Axes>"
      ]
     },
     "metadata": {},
     "output_type": "display_data"
    }
   ],
   "source": [
    "plot_cdf(logret_beef_data, \"BEEF\")"
   ]
  }
 ],
 "metadata": {
  "kernelspec": {
   "display_name": "Python 3",
   "language": "python",
   "name": "python3"
  },
  "language_info": {
   "codemirror_mode": {
    "name": "ipython",
    "version": 3
   },
   "file_extension": ".py",
   "mimetype": "text/x-python",
   "name": "python",
   "nbconvert_exporter": "python",
   "pygments_lexer": "ipython3",
   "version": "3.10.8"
  }
 },
 "nbformat": 4,
 "nbformat_minor": 2
}
